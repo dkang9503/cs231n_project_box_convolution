{
 "cells": [
  {
   "cell_type": "code",
   "execution_count": null,
   "metadata": {},
   "outputs": [],
   "source": [
    "# -*- coding: utf-8 -*-\n",
    "\"\"\"\n",
    "Created on Tue May 14 17:43:57 2019\n",
    "\n",
    "@author: dkang\n",
    "\"\"\"\n",
    "import torch\n",
    "import torchvision\n",
    "import numpy as np\n",
    "import torchvision.transforms as transforms\n",
    "import random\n",
    "from torch.utils.data.sampler import SubsetRandomSampler\n",
    "from matplotlib import pyplot as plt\n",
    "\n",
    "\n",
    "train_set = torchvision.datasets.ImageFolder(root = '../Code/data/ImageNet/tiny-imagenet-200/train', transform=\n",
    "                                                 transforms.Compose([transforms.ToTensor(),\n",
    "                                                        transforms.Normalize(mean =[.4802486, .44807222, .39754647],\n",
    "                                                                             std = [.2769859, .26906505, .2820814])]))\n",
    "    \n",
    "test_set = torchvision.datasets.ImageFolder(root = '../Code/data/ImageNet/tiny-imagenet-200/test', transform=\n",
    "                                             transforms.Compose([transforms.ToTensor(),\n",
    "                                                    transforms.Normalize(mean =[.4802486, .44807222, .39754647],\n",
    "                                                                         std = [.2769859, .26906505, .2820814])]))\n",
    "\n",
    "train_indices = np.empty(90000, dtype = int)\n",
    "val_indices = np.empty(10000, dtype = int)\n",
    "\n",
    "for i in range(200):\n",
    "    temp_list = np.array(range(500*i, 500+500*i))\n",
    "    rand_samp_idx = random.sample(range(500), 50)\n",
    "    mask = np.array([False]*500)\n",
    "    mask[np.array(rand_samp_idx)] = True\n",
    "    val_indices[(50*i):(50*i+50)] = temp_list[mask]\n",
    "    train_indices[(450*i):(450*i+450)] = temp_list[mask == False]\n",
    "\n",
    "train_loader = torch.utils.data.DataLoader(train_set, batch_size = 128, \n",
    "                                           sampler = SubsetRandomSampler(train_indices))\n",
    "\n",
    "val_loader = torch.utils.data.DataLoader(train_set, batch_size = 128, \n",
    "                                           sampler = SubsetRandomSampler(val_indices))\n",
    "\n",
    "plt.imshow(train_set[0][0].numpy().transpose(), interpolation = 'nearest')\n",
    "plt.show"
   ]
  }
 ],
 "metadata": {
  "kernelspec": {
   "display_name": "Python 3",
   "language": "python",
   "name": "python3"
  },
  "language_info": {
   "codemirror_mode": {
    "name": "ipython",
    "version": 3
   },
   "file_extension": ".py",
   "mimetype": "text/x-python",
   "name": "python",
   "nbconvert_exporter": "python",
   "pygments_lexer": "ipython3",
   "version": "3.7.3"
  }
 },
 "nbformat": 4,
 "nbformat_minor": 2
}
