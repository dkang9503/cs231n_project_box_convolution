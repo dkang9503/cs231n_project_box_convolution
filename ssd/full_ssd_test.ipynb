{
 "cells": [
  {
   "cell_type": "code",
   "execution_count": 10,
   "metadata": {},
   "outputs": [],
   "source": [
    "# -*- coding: utf-8 -*-\n",
    "\"\"\"\n",
    "Created on Tue Jun  4 17:38:46 2019\n",
    "\n",
    "@author: dkang\n",
    "\"\"\"\n",
    "import torch.backends.cudnn as cudnn\n",
    "import torch.nn.init as init\n",
    "import torch.utils.data as data\n",
    "import numpy as np\n",
    "import argparse\n",
    "import torchvision\n",
    "import visdom\n",
    "import pickle\n",
    "\n",
    "from data import *\n",
    "from utils.augmentations import SSDAugmentation\n",
    "from layers.modules import MultiBoxLoss\n",
    "\n",
    "from ssd import build_ssd\n",
    "from box_ssd2 import build_ssd_box2\n",
    "from ssd_full_box import build_ssd_full_box\n",
    "\n",
    "import os\n",
    "import sys\n",
    "import time\n",
    "import torch\n",
    "from torch.utils.data import SubsetRandomSampler\n",
    "from torch.autograd import Variable\n",
    "import torch.nn as nn\n",
    "import torch.optim as optim\n",
    "from utils import metrics\n",
    "\n",
    "%reload_ext autoreload\n",
    "%autoreload 2\n",
    "\n",
    "def str2bool(v):\n",
    "    return v.lower() in (\"yes\", \"true\", \"t\", \"1\")\n",
    "\n",
    "\n",
    "cfg = voc\n",
    "\n",
    "dataset_train = VOCDetection(root='/home/harryemeric/Project/Code/data/VOCdevkit',\n",
    "                               image_sets = [('2012', 'trainval')],\n",
    "                               transform=SSDAugmentation(cfg['min_dim'],\n",
    "                                                         MEANS))\n",
    "\n",
    "\n",
    "data_loader_train = data.DataLoader(dataset_train, 2,\n",
    "                                  num_workers=0,\n",
    "                                  shuffle=False, \n",
    "                                  collate_fn=detection_collate,\n",
    "                                  pin_memory=True)\n",
    "\n",
    "ssd_net = build_ssd_box2('train', cfg['min_dim'], cfg['num_classes'])\n",
    "net = ssd_net"
   ]
  },
  {
   "cell_type": "code",
   "execution_count": 4,
   "metadata": {
    "scrolled": true
   },
   "outputs": [
    {
     "data": {
      "text/plain": [
       "(tensor([[[ 0.3386,  0.1866, -0.3954, -0.0122],\n",
       "          [ 0.1867,  0.2186,  0.1364, -0.5054],\n",
       "          [-0.5034,  0.4894, -0.2949,  0.1638],\n",
       "          ...,\n",
       "          [-0.0108, -0.0145,  0.0157,  0.0081],\n",
       "          [ 0.0014, -0.0196,  0.0019,  0.0067],\n",
       "          [-0.0209,  0.0123, -0.0041,  0.0030]],\n",
       " \n",
       "         [[-0.0141, -0.2737, -0.6129, -0.4052],\n",
       "          [ 0.2075,  0.0900,  0.2979, -0.2289],\n",
       "          [-0.8989,  0.2127, -0.0412,  0.0848],\n",
       "          ...,\n",
       "          [-0.0108, -0.0145,  0.0157,  0.0081],\n",
       "          [ 0.0014, -0.0196,  0.0019,  0.0067],\n",
       "          [-0.0209,  0.0123, -0.0041,  0.0030]]], grad_fn=<ViewBackward>),\n",
       " tensor([[[-0.0664, -0.4813,  0.0419,  ...,  0.5142,  0.4676,  0.3101],\n",
       "          [-0.5871,  0.4704, -0.2780,  ..., -0.2277,  0.2635, -0.1552],\n",
       "          [ 0.1667,  0.4406, -0.5340,  ...,  0.3721, -0.3927, -0.5965],\n",
       "          ...,\n",
       "          [ 0.0176,  0.0026, -0.0062,  ...,  0.0212, -0.0156,  0.0137],\n",
       "          [ 0.0197, -0.0176, -0.0118,  ...,  0.0118,  0.0205, -0.0160],\n",
       "          [ 0.0049,  0.0073,  0.0210,  ...,  0.0045, -0.0034, -0.0048]],\n",
       " \n",
       "         [[ 0.0244, -0.5640, -0.0957,  ...,  0.6690,  0.0442,  0.2713],\n",
       "          [-0.3524,  0.6656, -0.3422,  ..., -0.2175,  0.1671, -0.4049],\n",
       "          [ 0.0795,  0.2367, -0.5488,  ...,  0.4026, -0.0011, -0.8095],\n",
       "          ...,\n",
       "          [ 0.0176,  0.0026, -0.0062,  ...,  0.0212, -0.0156,  0.0137],\n",
       "          [ 0.0197, -0.0176, -0.0118,  ...,  0.0118,  0.0205, -0.0160],\n",
       "          [ 0.0049,  0.0073,  0.0210,  ...,  0.0045, -0.0034, -0.0048]]],\n",
       "        grad_fn=<ViewBackward>),\n",
       " tensor([[0.0133, 0.0133, 0.1000, 0.1000],\n",
       "         [0.0133, 0.0133, 0.1414, 0.1414],\n",
       "         [0.0133, 0.0133, 0.1414, 0.0707],\n",
       "         ...,\n",
       "         [0.5000, 0.5000, 0.9612, 0.9612],\n",
       "         [0.5000, 0.5000, 1.0000, 0.6223],\n",
       "         [0.5000, 0.5000, 0.6223, 1.0000]]))"
      ]
     },
     "execution_count": 4,
     "metadata": {},
     "output_type": "execute_result"
    }
   ],
   "source": [
    "net(next(iter(data_loader_train))[0])"
   ]
  },
  {
   "cell_type": "code",
   "execution_count": 11,
   "metadata": {},
   "outputs": [],
   "source": [
    "ssd_full_box = build_ssd_full_box('train', size=300, num_classes=21)"
   ]
  },
  {
   "cell_type": "code",
   "execution_count": 18,
   "metadata": {},
   "outputs": [],
   "source": [
    "out = ssd_full_box(next(iter(data_loader_train))[0])"
   ]
  },
  {
   "cell_type": "code",
   "execution_count": 20,
   "metadata": {},
   "outputs": [
    {
     "data": {
      "text/plain": [
       "8732"
      ]
     },
     "execution_count": 20,
     "metadata": {},
     "output_type": "execute_result"
    }
   ],
   "source": [
    "len(out[0][0])"
   ]
  },
  {
   "cell_type": "code",
   "execution_count": 21,
   "metadata": {},
   "outputs": [
    {
     "data": {
      "text/plain": [
       "'/home/harryemeric/Project/cs231n_project_box_convolution/ssd.pytorch'"
      ]
     },
     "execution_count": 21,
     "metadata": {},
     "output_type": "execute_result"
    }
   ],
   "source": [
    "pwd"
   ]
  },
  {
   "cell_type": "code",
   "execution_count": 24,
   "metadata": {},
   "outputs": [],
   "source": [
    "torch.save(ssd_full_box.vgg.state_dict(),'/home/harryemeric/Project/Code/weights/FullSSDZeros.pth')"
   ]
  },
  {
   "cell_type": "code",
   "execution_count": null,
   "metadata": {},
   "outputs": [],
   "source": []
  }
 ],
 "metadata": {
  "kernelspec": {
   "display_name": "Python 3",
   "language": "python",
   "name": "python3"
  },
  "language_info": {
   "codemirror_mode": {
    "name": "ipython",
    "version": 3
   },
   "file_extension": ".py",
   "mimetype": "text/x-python",
   "name": "python",
   "nbconvert_exporter": "python",
   "pygments_lexer": "ipython3",
   "version": "3.7.3"
  }
 },
 "nbformat": 4,
 "nbformat_minor": 2
}
